{
 "cells": [
  {
   "cell_type": "code",
   "execution_count": null,
   "id": "9b0b9061-fcc1-47f8-868e-5e5e03f0ad62",
   "metadata": {},
   "outputs": [],
   "source": [
    "'''\n",
    "Everythig can be calculated by using this script only. Just change keys\n",
    "\n",
    "Change: json_file_path to the report you are interested in and\n",
    "change the data[.....] based on what you want\n",
    "'''\n",
    "\n",
    "import json\n",
    "import statistics\n",
    "import numpy as np\n",
    "# specify the path to your JSON file\n",
    "json_file_path = \"cv_report.json\"\n",
    "\n",
    "\n",
    "# open the file in read mode using 'with' statement\n",
    "with open(json_file_path, \"r\") as json_file:\n",
    "    # load the contents of the file into a dictionary\n",
    "    data = json.load(json_file)\n",
    "\n",
    "# print the dictionary\n",
    "print(data.keys())\n",
    "print(data['run_1'].keys())\n",
    "print(data['run_1']['Hate speech'].keys())\n",
    "\n",
    "metric_list = list()\n",
    "\n",
    "for i in range(1,len(data)):\n",
    "    metric_list.append(data[f'run_{i}']['macro avg']['f1-score'])\n",
    "    # metric_list.append(data[f'fold_{i}']['Hate speech']['f1-score'])\n",
    "# print(metric_list)\n",
    "\n",
    "\n",
    "mean_metric = statistics.mean(metric_list)\n",
    "print(f\"\\nMean:\\n{mean_metric}\\n\")\n",
    "stdev_f1 = statistics.stdev(metric_list)\n",
    "print(f\"Standard Deviation:\\n{stdev_f1}\\n\")"
   ]
  }
 ],
 "metadata": {
  "kernelspec": {
   "display_name": "Python 3 (ipykernel)",
   "language": "python",
   "name": "python3"
  },
  "language_info": {
   "codemirror_mode": {
    "name": "ipython",
    "version": 3
   },
   "file_extension": ".py",
   "mimetype": "text/x-python",
   "name": "python",
   "nbconvert_exporter": "python",
   "pygments_lexer": "ipython3",
   "version": "3.10.9"
  }
 },
 "nbformat": 4,
 "nbformat_minor": 5
}
