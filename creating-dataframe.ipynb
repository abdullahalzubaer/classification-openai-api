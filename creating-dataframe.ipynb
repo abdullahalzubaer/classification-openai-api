{
 "cells": [
  {
   "cell_type": "code",
   "execution_count": null,
   "id": "9ea46b7a-d37f-42b1-a85d-58db2283936d",
   "metadata": {},
   "outputs": [],
   "source": [
    "'''\n",
    "Here you create the test dataframe that you will be passing to the development notebook. The dataframe should look like below\n",
    "\n",
    "==\n",
    "Strict requirements:\n",
    "\n",
    "1. How the dataframe must look like -> It must have a text column and a label column and it must have string as label.\n",
    "2. Save the dataframe with name \"test_dataframe_working_with\" \n",
    "\n",
    "\n",
    "test_dataframe_working_with = \n",
    "\n",
    "============================================================================\n",
    "      id                                               text            label\n",
    "0  34243  @local1025 @njdotcom @GovMurphy Oh, I could ha...  Not hate speech\n",
    "============================================================================\n",
    "\n",
    "'''"
   ]
  }
 ],
 "metadata": {
  "kernelspec": {
   "display_name": "work",
   "language": "python",
   "name": "work"
  },
  "language_info": {
   "codemirror_mode": {
    "name": "ipython",
    "version": 3
   },
   "file_extension": ".py",
   "mimetype": "text/x-python",
   "name": "python",
   "nbconvert_exporter": "python",
   "pygments_lexer": "ipython3",
   "version": "3.10.9"
  }
 },
 "nbformat": 4,
 "nbformat_minor": 5
}
